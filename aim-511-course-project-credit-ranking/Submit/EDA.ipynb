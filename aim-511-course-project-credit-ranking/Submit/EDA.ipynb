{
 "cells": [
  {
   "cell_type": "code",
   "execution_count": null,
   "metadata": {
    "id": "b5GJkzxs2lOM"
   },
   "outputs": [],
   "source": [
    "import pandas as pd\n",
    "import numpy as np\n",
    "from sklearn.preprocessing import LabelEncoder\n",
    "import seaborn as sns\n",
    "import matplotlib.pyplot as plt"
   ]
  },
  {
   "cell_type": "code",
   "execution_count": null,
   "metadata": {
    "colab": {
     "base_uri": "https://localhost:8080/"
    },
    "id": "L-7LWHPk2Dje",
    "outputId": "69037cca-db17-4345-9de6-0668a7d7f920"
   },
   "outputs": [],
   "source": [
    "train_data = pd.read_csv(\"train.csv\")\n",
    "test_data = pd.read_csv(\"test.csv\")\n",
    "test_ids = pd.read_csv(\"test.csv\")[\"ID\"]\n",
    "train_data = train_data.drop(columns=[\"ID\", \"Customer_ID\", \"Month\", \"Name\", \"Number\"])\n",
    "\n",
    "print(train_data.head())"
   ]
  },
  {
   "cell_type": "code",
   "execution_count": null,
   "metadata": {
    "colab": {
     "base_uri": "https://localhost:8080/"
    },
    "id": "6Xy6ECDk2sps",
    "outputId": "09be42ea-b676-4385-c43d-95889609107d"
   },
   "outputs": [],
   "source": [
    "train_data.fillna(train_data.median(numeric_only=True), inplace=True)\n",
    "print(train_data.head())"
   ]
  },
  {
   "cell_type": "code",
   "execution_count": null,
   "metadata": {
    "colab": {
     "base_uri": "https://localhost:8080/",
     "height": 1000
    },
    "id": "b-YeoCJy21PV",
    "outputId": "7a56eee1-464a-43e8-dade-03db77ee793f"
   },
   "outputs": [],
   "source": [
    "for col in [\"Total_Current_Loans\", \"Current_Debt_Outstanding\", \"Income_Annual\", \"Credit_Limit\", \"Age\", \"Total_Credit_Cards\", \"Total_Bank_Accounts\", \"Delay_from_due_date\"]:\n",
    "    train_data[col] = pd.to_numeric(\n",
    "        train_data[col].astype(str).str.replace(\"_\", \"\", regex=False), errors=\"coerce\"\n",
    "    )\n",
    "    test_data[col] = pd.to_numeric(\n",
    "        test_data[col].astype(str).str.replace(\"_\", \"\", regex=False), errors=\"coerce\"\n",
    "    )\n",
    "train_data"
   ]
  },
  {
   "cell_type": "code",
   "execution_count": null,
   "metadata": {
    "colab": {
     "base_uri": "https://localhost:8080/",
     "height": 458
    },
    "id": "N1km6S9s262q",
    "outputId": "19f8b8c9-1842-4e46-ccaf-820415336dfd"
   },
   "outputs": [],
   "source": [
    "train_data[\"Credit_History_Age\"] = train_data[\"Credit_History_Age\"].str.extract(\"(\\d+)\").astype(float)\n",
    "test_data[\"Credit_History_Age\"] = test_data[\"Credit_History_Age\"].str.extract(\"(\\d+)\").astype(float)\n",
    "train_data[\"Credit_History_Age\"]"
   ]
  },
  {
   "cell_type": "code",
   "execution_count": null,
   "metadata": {
    "id": "v1iut5rM2_f5"
   },
   "outputs": [],
   "source": [
    "train_data.replace([np.inf, -np.inf], np.nan, inplace=True)\n",
    "train_data.fillna(train_data.median(numeric_only=True), inplace=True)\n",
    "label_encoder = LabelEncoder()\n",
    "train_data[\"Credit_Score\"] = label_encoder.fit_transform(train_data[\"Credit_Score\"])"
   ]
  },
  {
   "cell_type": "code",
   "execution_count": null,
   "metadata": {
    "colab": {
     "base_uri": "https://localhost:8080/",
     "height": 585
    },
    "id": "xSV2F-KX33uO",
    "outputId": "4f05b89c-211d-409c-e97c-119d162e3e26"
   },
   "outputs": [],
   "source": [
    "train_data.head()"
   ]
  },
  {
   "cell_type": "code",
   "execution_count": null,
   "metadata": {
    "colab": {
     "base_uri": "https://localhost:8080/",
     "height": 467
    },
    "id": "s2opmouM7ZVR",
    "outputId": "e7e7c1e3-a3d0-40a1-c285-6dbc77a73e86"
   },
   "outputs": [],
   "source": [
    "train_data.loc[train_data['Profession'].str.startswith('_', na=False), 'Profession'] = 'Unemployed'\n",
    "profession_count = train_data['Profession'].value_counts(dropna=False)\n",
    "sns.set(rc={'figure.figsize': (20, 10)})\n",
    "sns.barplot(x=profession_count.index, y=profession_count.values)\n",
    "plt.title('Bar graph showing the value counts of the column - Profession')\n",
    "plt.ylabel('Count', fontsize=12)\n",
    "plt.xlabel('Profession', fontsize=12)\n",
    "plt.show()"
   ]
  },
  {
   "cell_type": "code",
   "execution_count": null,
   "metadata": {
    "colab": {
     "base_uri": "https://localhost:8080/",
     "height": 881
    },
    "id": "juuWKue-B6ey",
    "outputId": "9783b55c-7f04-4891-f2b2-56926182de1e"
   },
   "outputs": [],
   "source": [
    "sns.catplot(x='Credit_Score', col='Profession', data=train_data, kind='count', col_wrap=4)"
   ]
  },
  {
   "cell_type": "code",
   "execution_count": null,
   "metadata": {
    "colab": {
     "base_uri": "https://localhost:8080/"
    },
    "id": "FMPgoApbH9d9",
    "outputId": "90d16485-1a93-4b16-e269-4954fa79b850"
   },
   "outputs": [],
   "source": [
    "index_values = ~train_data['Loan_Type'].isnull().values\n",
    "loan_type_data = list(train_data['Loan_Type'][index_values])\n",
    "loan_type_dict = dict()\n",
    "for value in loan_type_data:\n",
    "    values = value.split(',')\n",
    "    for each_value in values:\n",
    "        loan_type = each_value.strip(' ')\n",
    "        if 'and' in loan_type:\n",
    "            loan_type = loan_type[4 : ]\n",
    "        if loan_type in loan_type_dict:\n",
    "            loan_type_dict[loan_type] += 1\n",
    "        else:\n",
    "            loan_type_dict[loan_type] = 1\n",
    "\n",
    "loan_type_dict"
   ]
  },
  {
   "cell_type": "code",
   "execution_count": null,
   "metadata": {
    "colab": {
     "base_uri": "https://localhost:8080/",
     "height": 481
    },
    "id": "7QxuHeVaJxOv",
    "outputId": "ceb7f034-4f72-4de5-f01d-5fc253ddde7e"
   },
   "outputs": [],
   "source": [
    "sns.set(rc = {'figure.figsize': (20, 10)})\n",
    "sns.barplot(x=list(loan_type_dict.keys()), y=list(loan_type_dict.values()))\n",
    "plt.title('Bar graph showing the counts of the column - Loan_Type')\n",
    "plt.ylabel('Count', fontsize = 12)\n",
    "plt.xlabel('Loan_Type', fontsize = 12)"
   ]
  },
  {
   "cell_type": "code",
   "execution_count": null,
   "metadata": {
    "colab": {
     "base_uri": "https://localhost:8080/",
     "height": 241
    },
    "id": "Yu7G_lnmLDtn",
    "outputId": "b74ff1b0-f5bc-4f26-feec-f27fcdcff552"
   },
   "outputs": [],
   "source": [
    "credit_mix_count = train_data['Credit_Mix'].value_counts(dropna = False)\n",
    "credit_mix_count"
   ]
  },
  {
   "cell_type": "code",
   "execution_count": null,
   "metadata": {
    "colab": {
     "base_uri": "https://localhost:8080/",
     "height": 573
    },
    "id": "K31rL7lBLNSu",
    "outputId": "af9f5572-1b68-4b14-9c0b-e2bc39e628e9"
   },
   "outputs": [],
   "source": [
    "sns.set(rc = {'figure.figsize': (6, 6)})\n",
    "sns.barplot(x=credit_mix_count.index,y= credit_mix_count.values, alpha = 0.8)\n",
    "plt.title('Bar graph showing the value counts of the column - Credit_Mix')\n",
    "plt.ylabel('Number of Occurrences', fontsize = 12)\n",
    "plt.xlabel('Credit Mix', fontsize = 12)\n",
    "plt.show()"
   ]
  },
  {
   "cell_type": "code",
   "execution_count": null,
   "metadata": {
    "colab": {
     "base_uri": "https://localhost:8080/",
     "height": 872
    },
    "id": "Z3ddxltaLcUo",
    "outputId": "61282592-3bdc-4d0f-df77-d042f80b20f9"
   },
   "outputs": [],
   "source": [
    "sns.catplot(x='Credit_Score', col = 'Credit_Mix', data = train_data, kind = 'count', col_wrap = 2)"
   ]
  }
 ],
 "metadata": {
  "colab": {
   "provenance": []
  },
  "kernelspec": {
   "display_name": "mlenv",
   "language": "python",
   "name": "python3"
  },
  "language_info": {
   "codemirror_mode": {
    "name": "ipython",
    "version": 3
   },
   "file_extension": ".py",
   "mimetype": "text/x-python",
   "name": "python",
   "nbconvert_exporter": "python",
   "pygments_lexer": "ipython3",
   "version": "3.12.4"
  }
 },
 "nbformat": 4,
 "nbformat_minor": 0
}
