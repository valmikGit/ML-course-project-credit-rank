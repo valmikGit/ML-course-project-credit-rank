{
 "cells": [
  {
   "cell_type": "code",
   "execution_count": 1,
   "metadata": {},
   "outputs": [],
   "source": [
    "import pandas as pd\n",
    "import numpy as np\n",
    "from sklearn.model_selection import train_test_split\n",
    "from sklearn.preprocessing import LabelEncoder, StandardScaler, OneHotEncoder\n",
    "from sklearn.impute import SimpleImputer\n",
    "from sklearn.ensemble import RandomForestClassifier\n",
    "from sklearn.neighbors import KNeighborsClassifier\n",
    "from sklearn.linear_model import LogisticRegression\n",
    "from sklearn.ensemble import AdaBoostClassifier\n",
    "from xgboost import XGBClassifier\n",
    "from sklearn.tree import DecisionTreeClassifier\n",
    "from sklearn.pipeline import Pipeline\n",
    "from sklearn.compose import ColumnTransformer\n",
    "from sklearn.naive_bayes import GaussianNB"
   ]
  },
  {
   "cell_type": "code",
   "execution_count": 2,
   "metadata": {},
   "outputs": [],
   "source": [
    "# Load training and test data\n",
    "train_data = pd.read_csv(r'./train.csv', low_memory=False)\n",
    "test_data = pd.read_csv(r'./test.csv', low_memory=False)\n",
    "test_ids = pd.read_csv(r'./test.csv', low_memory=False)['ID']"
   ]
  },
  {
   "cell_type": "code",
   "execution_count": 3,
   "metadata": {},
   "outputs": [],
   "source": [
    "# Drop unnecessary columns\n",
    "train_data.drop(columns=['Unnamed: 0', 'ID', 'Customer_ID', 'Month', 'Name', 'Number'], inplace=True, errors='ignore')\n",
    "test_data.drop(columns=['ID', 'Customer_ID', 'Month', 'Name', 'Number'], inplace=True, errors='ignore')"
   ]
  },
  {
   "cell_type": "code",
   "execution_count": 4,
   "metadata": {},
   "outputs": [],
   "source": [
    "# Convert relevant columns to numeric after removing any underscores\n",
    "for col in ['Current_Debt_Outstanding', 'Income_Annual', 'Credit_Limit', 'Age']:\n",
    "    train_data[col] = pd.to_numeric(train_data[col].astype(str).str.replace('_', '', regex=False), errors='coerce')\n",
    "    test_data[col] = pd.to_numeric(test_data[col].astype(str).str.replace('_', '', regex=False), errors='coerce')"
   ]
  },
  {
   "cell_type": "code",
   "execution_count": 5,
   "metadata": {},
   "outputs": [],
   "source": [
    "# Fill missing values with median in train data\n",
    "train_data.fillna(train_data.median(numeric_only=True), inplace=True)\n",
    "\n",
    "# Feature engineering in train data\n",
    "train_data['Debt_Income_Ratio'] = train_data['Current_Debt_Outstanding'] / train_data['Income_Annual']\n",
    "train_data['Income_Credit_Limit_Ratio'] = train_data['Income_Annual'] / train_data['Credit_Limit']\n",
    "train_data['Debt_Credit_Limit_Ratio'] = train_data['Current_Debt_Outstanding'] / train_data['Credit_Limit']"
   ]
  },
  {
   "cell_type": "code",
   "execution_count": 6,
   "metadata": {},
   "outputs": [],
   "source": [
    "# Replace infinity values in train data\n",
    "train_data.replace([np.inf, -np.inf], np.nan, inplace=True)\n",
    "train_data.fillna(train_data.median(numeric_only=True), inplace=True)\n",
    "\n",
    "# Label encode the target variable in train data\n",
    "label_encoder = LabelEncoder()\n",
    "train_data['Credit_Score'] = label_encoder.fit_transform(train_data['Credit_Score'])"
   ]
  },
  {
   "cell_type": "code",
   "execution_count": 7,
   "metadata": {},
   "outputs": [],
   "source": [
    "# Prepare training features and labels\n",
    "X_train = train_data.drop(columns='Credit_Score')\n",
    "y_train = train_data['Credit_Score']"
   ]
  },
  {
   "cell_type": "code",
   "execution_count": 8,
   "metadata": {},
   "outputs": [],
   "source": [
    "# Identify numerical and categorical columns in train data\n",
    "numerical_features = X_train.select_dtypes(include=['float64', 'int64']).columns\n",
    "categorical_features = X_train.select_dtypes(include=['object']).columns"
   ]
  },
  {
   "cell_type": "code",
   "execution_count": 9,
   "metadata": {},
   "outputs": [],
   "source": [
    "# Define preprocessing pipelines\n",
    "numerical_pipeline = Pipeline([\n",
    "    ('imputer', SimpleImputer(strategy='median')),\n",
    "    ('scaler', StandardScaler())\n",
    "])\n",
    "\n",
    "categorical_pipeline = Pipeline([\n",
    "    ('imputer', SimpleImputer(strategy='most_frequent')),\n",
    "    ('encoder', OneHotEncoder(handle_unknown='ignore'))\n",
    "])"
   ]
  },
  {
   "cell_type": "code",
   "execution_count": 10,
   "metadata": {},
   "outputs": [],
   "source": [
    "# Create column transformer for preprocessing\n",
    "preprocessor = ColumnTransformer([\n",
    "    ('num', numerical_pipeline, numerical_features),\n",
    "    ('cat', categorical_pipeline, categorical_features)\n",
    "])"
   ]
  },
  {
   "cell_type": "code",
   "execution_count": 11,
   "metadata": {},
   "outputs": [],
   "source": [
    "# Prepare test data\n",
    "test_data.fillna(train_data.median(numeric_only=True), inplace=True)"
   ]
  },
  {
   "cell_type": "code",
   "execution_count": 12,
   "metadata": {},
   "outputs": [],
   "source": [
    "# Feature engineering in test data\n",
    "test_data['Debt_Income_Ratio'] = test_data['Current_Debt_Outstanding'] / test_data['Income_Annual']\n",
    "test_data['Income_Credit_Limit_Ratio'] = test_data['Income_Annual'] / test_data['Credit_Limit']\n",
    "test_data['Debt_Credit_Limit_Ratio'] = test_data['Current_Debt_Outstanding'] / test_data['Credit_Limit']"
   ]
  },
  {
   "cell_type": "code",
   "execution_count": 13,
   "metadata": {},
   "outputs": [],
   "source": [
    "# Replace infinity values in test data\n",
    "test_data.replace([np.inf, -np.inf], np.nan, inplace=True)\n",
    "test_data.fillna(train_data.median(numeric_only=True), inplace=True)"
   ]
  },
  {
   "cell_type": "code",
   "execution_count": 14,
   "metadata": {},
   "outputs": [
    {
     "name": "stdout",
     "output_type": "stream",
     "text": [
      "Index(['Age', 'Profession', 'Income_Annual', 'Base_Salary_PerMonth',\n",
      "       'Total_Bank_Accounts', 'Total_Credit_Cards', 'Rate_Of_Interest',\n",
      "       'Total_Current_Loans', 'Loan_Type', 'Delay_from_due_date',\n",
      "       'Total_Delayed_Payments', 'Credit_Limit', 'Total_Credit_Enquiries',\n",
      "       'Credit_Mix', 'Current_Debt_Outstanding', 'Ratio_Credit_Utilization',\n",
      "       'Credit_History_Age', 'Payment_of_Min_Amount', 'Per_Month_EMI',\n",
      "       'Monthly_Investment', 'Payment_Behaviour', 'Monthly_Balance',\n",
      "       'Debt_Income_Ratio', 'Income_Credit_Limit_Ratio',\n",
      "       'Debt_Credit_Limit_Ratio'],\n",
      "      dtype='object')\n",
      "0        2\n",
      "1        2\n",
      "2        2\n",
      "3        2\n",
      "4        1\n",
      "        ..\n",
      "79995    1\n",
      "79996    1\n",
      "79997    1\n",
      "79998    2\n",
      "79999    2\n",
      "Name: Credit_Score, Length: 80000, dtype: int64\n"
     ]
    }
   ],
   "source": [
    "print(X_train.columns)\n",
    "print(y_train)"
   ]
  },
  {
   "cell_type": "code",
   "execution_count": null,
   "metadata": {},
   "outputs": [],
   "source": [
    "models = {}\n",
    "model = RandomForestClassifier(n_estimators=300, max_depth=6, random_state=42)\n",
    "models['Random forest'] = model\n",
    "model = XGBClassifier(learning_rate=0.05, max_depth=6, n_estimators=300, random_state=42, eval_metric='mlogloss')\n",
    "models['XGBoost'] = model\n",
    "model = KNeighborsClassifier(n_neighbors=5)\n",
    "models['K nearest neighbours'] = model\n",
    "model = LogisticRegression(random_state=42, max_iter=500)\n",
    "models['Logistic regression'] = model\n",
    "model = DecisionTreeClassifier(max_depth=6, random_state=42)\n",
    "models['Decision tree classifier'] = model\n",
    "model = GaussianNB()\n",
    "models['Gaussian'] = model\n",
    "base_estimator = DecisionTreeClassifier(max_depth=6)\n",
    "model = AdaBoostClassifier(estimator=base_estimator, n_estimators=300, random_state=42)\n",
    "models['Adaboost'] = model"
   ]
  },
  {
   "cell_type": "code",
   "execution_count": null,
   "metadata": {},
   "outputs": [],
   "source": [
    "for key, value in models.items():\n",
    "    try:\n",
    "        # Define model pipeline\n",
    "        pipeline = Pipeline([('preprocessor', preprocessor), ('classifier', value)])\n",
    "\n",
    "        # Fit the pipeline on training data\n",
    "        pipeline.fit(X_train, y_train)\n",
    "        # Make predictions on test data\n",
    "        test_predictions = pipeline.predict(test_data)\n",
    "\n",
    "\n",
    "        # Convert predictions back to original labels\n",
    "        test_predictions_labels = label_encoder.inverse_transform(test_predictions)\n",
    "        # test_predictions_encoded = label_encoder.transform(test_predictions)\n",
    "        # Prepare the submission file\n",
    "        submission = pd.DataFrame({'ID': test_ids, 'Credit_Score': test_predictions_labels})\n",
    "        submission.to_csv(f'submission_{key}.csv', index=False)\n",
    "\n",
    "        print(f\"Submission file 'submission_{key}.csv' created successfully!\")\n",
    "    except Exception as e:\n",
    "        print(f'Error : {e}')"
   ]
  }
 ],
 "metadata": {
  "kernelspec": {
   "display_name": "mlenv",
   "language": "python",
   "name": "python3"
  },
  "language_info": {
   "codemirror_mode": {
    "name": "ipython",
    "version": 3
   },
   "file_extension": ".py",
   "mimetype": "text/x-python",
   "name": "python",
   "nbconvert_exporter": "python",
   "pygments_lexer": "ipython3",
   "version": "3.11.4"
  }
 },
 "nbformat": 4,
 "nbformat_minor": 2
}
